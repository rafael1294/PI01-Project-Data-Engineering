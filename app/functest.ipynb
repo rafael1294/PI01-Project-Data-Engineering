{
 "cells": [
  {
   "cell_type": "code",
   "execution_count": 70,
   "metadata": {},
   "outputs": [],
   "source": [
    "import pandas as pd\n",
    "import numpy as np\n",
    "from fastapi import FastAPI\n",
    "import json\n",
    "import pymysql\n"
   ]
  },
  {
   "cell_type": "code",
   "execution_count": 71,
   "metadata": {},
   "outputs": [],
   "source": [
    "from fastapi import FastAPI\n",
    "from starlette.responses import RedirectResponse\n",
    "import pymysql\n",
    "\n",
    "app = FastAPI()\n",
    "\n",
    "\n",
    "def conectar_a_base_de_datos() :\n",
    "    conexion = pymysql.connect(\n",
    "    host = 'localhost',\n",
    "    user = 'root',\n",
    "    passwd = 'mysql123M',\n",
    "    db= 'pi1',\n",
    "    port= 3306\n",
    "    )\n",
    "    return conexion.cursor()"
   ]
  },
  {
   "cell_type": "code",
   "execution_count": 72,
   "metadata": {},
   "outputs": [],
   "source": [
    "def word_count(plataforma,kword):\n",
    "    cursor=conectar_a_base_de_datos()\n",
    "    a=[]\n",
    "    plataforma=str(plataforma)\n",
    "    kword=str(kword)\n",
    "    p=''\n",
    "    if plataforma == \"amazon\":\n",
    "        p = \"a\"\n",
    "    elif plataforma == \"disney\":\n",
    "        p = \"d\"\n",
    "    elif plataforma == \"hulu\":\n",
    "        p = \"h\"\n",
    "    elif plataforma == \"netflix\":\n",
    "        p = \"n\"\n",
    "    else:\n",
    "        \"Inserte: amazon, disney, hulu o netflix\"\n",
    "    \n",
    "    cursor.execute(\"select id_plataform, title, count(*) as cantidad \\\n",
    "        from dftitle \\\n",
    "        where title like '%\"+kword+\"%' and id_plataform = '\"+p+\"'\")\n",
    "        \n",
    "    for dato in cursor:\n",
    "        a.append(dato)\n",
    "    \n",
    "    return a"
   ]
  },
  {
   "cell_type": "code",
   "execution_count": 73,
   "metadata": {},
   "outputs": [
    {
     "data": {
      "text/plain": [
       "[('n', 'love on the spectrum', 196)]"
      ]
     },
     "execution_count": 73,
     "metadata": {},
     "output_type": "execute_result"
    }
   ],
   "source": [
    "word_count(\"netflix\",\"love\")"
   ]
  },
  {
   "cell_type": "code",
   "execution_count": 74,
   "metadata": {},
   "outputs": [],
   "source": [
    "def score_count(plataforma,score,year):\n",
    "    cursor=conectar_a_base_de_datos()\n",
    "    a=[]\n",
    "    score=str(score)\n",
    "    year=str(year)\n",
    "    p=''\n",
    "    if plataforma == \"amazon\":\n",
    "        p = \"a\"\n",
    "    elif plataforma == \"disney\":\n",
    "        p = \"d\"\n",
    "    elif plataforma == \"hulu\":\n",
    "        p = \"h\"\n",
    "    elif plataforma == \"netflix\":\n",
    "        p = \"n\"\n",
    "    else:\n",
    "        \"Inserte: amazon, disney, hulu o netflix\"\n",
    "    \n",
    "    cursor.execute(\"select id_plataform, title, count(*) as cantidad \\\n",
    "        from dftitle\\\n",
    "        where score > 85 and id_plataform = '\"+p+\"' and release_year = '\"+year+\"' and type ='movie'\")\n",
    "    for dato in cursor:\n",
    "        a.append(dato)\n",
    "    \n",
    "    return a"
   ]
  },
  {
   "cell_type": "code",
   "execution_count": 75,
   "metadata": {},
   "outputs": [
    {
     "data": {
      "text/plain": [
       "[('n', 'grown ups', 20)]"
      ]
     },
     "execution_count": 75,
     "metadata": {},
     "output_type": "execute_result"
    }
   ],
   "source": [
    "score_count(\"netflix\",85,2010)"
   ]
  },
  {
   "cell_type": "code",
   "execution_count": 76,
   "metadata": {},
   "outputs": [],
   "source": [
    "def second_score(plataforma):\n",
    "    cursor=conectar_a_base_de_datos()\n",
    "    a=[]\n",
    "    p=''\n",
    "    if plataforma == \"amazon\":\n",
    "        p = \"a\"\n",
    "    elif plataforma == \"disney\":\n",
    "        p = \"d\"\n",
    "    elif plataforma == \"hulu\":\n",
    "        p = \"h\"\n",
    "    elif plataforma == \"netflix\":\n",
    "        p = \"n\"\n",
    "    else:\n",
    "        \"Inserte: amazon, disney, hulu o netflix\"\n",
    "    query=\"select * from (select id_plataform, score, title, ROW_NUMBER() OVER (ORDER BY score desc, title) AS orden \\\n",
    "        from dftitle) a \\\n",
    "        where id_plataform = '\"+p+\"' and orden = 2\"\n",
    "    cursor.execute(query)\n",
    "    for dato in cursor:\n",
    "        a.append(dato)\n",
    "    \n",
    "    return a"
   ]
  },
  {
   "cell_type": "code",
   "execution_count": 77,
   "metadata": {},
   "outputs": [
    {
     "data": {
      "text/plain": [
       "[('a', 100, '15-minute cardio core 8.0 workout (with weights)', 2)]"
      ]
     },
     "execution_count": 77,
     "metadata": {},
     "output_type": "execute_result"
    }
   ],
   "source": [
    "second_score(\"amazon\")"
   ]
  },
  {
   "cell_type": "code",
   "execution_count": 79,
   "metadata": {},
   "outputs": [],
   "source": [
    "def longest(plataforma,tip,year):\n",
    "    cursor=conectar_a_base_de_datos()\n",
    "    a=[]\n",
    "    year=str(year)\n",
    "    p=''\n",
    "    if plataforma == \"amazon\":\n",
    "        p = \"a\"\n",
    "    elif plataforma == \"disney\":\n",
    "        p = \"d\"\n",
    "    elif plataforma == \"hulu\":\n",
    "        p = \"h\"\n",
    "    elif plataforma == \"netflix\":\n",
    "        p = \"n\"\n",
    "    else:\n",
    "        \"Inserte: amazon, disney, hulu o netflix\"\n",
    "    \n",
    "    query=\"select id_plataform, title, release_year, convert(SUBSTRING_INDEX(duration,' ', 1), UNSIGNED INTEGER)  AS tiempo,\\\n",
    "        SUBSTRING_INDEX(duration,' ', -1) as unidades from dftitle \\\n",
    "        where release_year = '\"+year+\"' and id_plataform = '\"+p+\"' and SUBSTRING_INDEX(duration,' ', -1) like '\"+tip+\"%' \\\n",
    "        order by 4 desc \\\n",
    "        limit 1\"\n",
    "    cursor.execute(query)\n",
    "\n",
    "    for dato in cursor:\n",
    "        a.append(dato)\n",
    "    \n",
    "    return a"
   ]
  },
  {
   "cell_type": "code",
   "execution_count": 80,
   "metadata": {},
   "outputs": [
    {
     "data": {
      "text/plain": [
       "[('n', 'sairat', 2016, 173, 'min')]"
      ]
     },
     "execution_count": 80,
     "metadata": {},
     "output_type": "execute_result"
    }
   ],
   "source": [
    "longest(\"netflix\",\"min\",2016)"
   ]
  },
  {
   "cell_type": "code",
   "execution_count": 42,
   "metadata": {},
   "outputs": [],
   "source": [
    "def longest(rating):\n",
    "    cursor=conectar_a_base_de_datos()\n",
    "    a=[]\n",
    "     \n",
    "    query=\"select rating, type, count(*) as cantidad \\\n",
    "        from dftitle \\\n",
    "        where rating ='\"+rating+\"' \\\n",
    "        group by rating\"\n",
    "    cursor.execute(query)\n",
    "\n",
    "    for dato in cursor:\n",
    "        a.append(dato)\n",
    "    \n",
    "    return a"
   ]
  },
  {
   "cell_type": "code",
   "execution_count": 43,
   "metadata": {},
   "outputs": [
    {
     "data": {
      "text/plain": [
       "[('18+', 'tv show', 1243)]"
      ]
     },
     "execution_count": 43,
     "metadata": {},
     "output_type": "execute_result"
    }
   ],
   "source": [
    "longest('18+')"
   ]
  }
 ],
 "metadata": {
  "kernelspec": {
   "display_name": "Python 3",
   "language": "python",
   "name": "python3"
  },
  "language_info": {
   "codemirror_mode": {
    "name": "ipython",
    "version": 3
   },
   "file_extension": ".py",
   "mimetype": "text/x-python",
   "name": "python",
   "nbconvert_exporter": "python",
   "pygments_lexer": "ipython3",
   "version": "3.10.5"
  },
  "orig_nbformat": 4,
  "vscode": {
   "interpreter": {
    "hash": "5c0aa7e6415dbcf7e4c1e39a56e3474aa103db52234d7bc08498ee9b5c21aa17"
   }
  }
 },
 "nbformat": 4,
 "nbformat_minor": 2
}
